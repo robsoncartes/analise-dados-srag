{
 "cells": [
  {
   "cell_type": "markdown",
   "metadata": {},
   "source": [
    "#### Os dados, até a data do presente estudo, estão no https://opendatasus.saude.gov.br/dataset/bd-srag-2020\n",
    "#### O presente arquivo é de terça, 07 de julho. Atenção: a última barra no gráfico por semana é menor, pois a semana é incompleta! Note também que o crescimento é diferente por cidades.\n",
    "#### Disclaimer/Aviso Legal: Este notebook tem um fim única e exclusivamente didático, para alunos da FATEC, como uma introdução à Análise de Dados Públicos. Desse modo, está excluída a garantia ou responsabilidade de qualquer tipo, por exemplo, de precisão, confiabilidade, completude e atualidade das informações."
   ]
  },
  {
   "cell_type": "code",
   "execution_count": 1,
   "metadata": {
    "pycharm": {
     "name": "#%%\n"
    }
   },
   "outputs": [],
   "source": [
    "import matplotlib.pyplot as plt\n",
    "import pandas as pd\n",
    "low_memory=False\n",
    "%matplotlib inline\n",
    "pd.options.display.max_columns = 80\n",
    "pd.options.display.max_rows = 90\n"
   ]
  },
  {
   "cell_type": "code",
   "execution_count": 2,
   "metadata": {
    "pycharm": {
     "name": "#%%\n"
    }
   },
   "outputs": [
    {
     "name": "stderr",
     "output_type": "stream",
     "text": [
      "C:\\Users\\Robson\\AppData\\Roaming\\Python\\Python38\\site-packages\\IPython\\core\\interactiveshell.py:3071: DtypeWarning: Columns (18,59,61,62,63,103,105,117,119,126,128,129,130,132) have mixed types.Specify dtype option on import or set low_memory=False.\n",
      "  has_raised = await self.run_ast_nodes(code_ast.body, cell_name,\n"
     ]
    }
   ],
   "source": [
    "filename = r'INFLUD-07-07-2020.csv'\n",
    "df = pd.read_csv(filename, delimiter=';', encoding='ISO-8859-1', error_bad_lines=False)"
   ]
  },
  {
   "cell_type": "code",
   "execution_count": 3,
   "metadata": {
    "pycharm": {
     "name": "#%%\n"
    }
   },
   "outputs": [
    {
     "name": "stdout",
     "output_type": "stream",
     "text": [
      "18 CS_ETINIA\n",
      "59 DT_VAC_MAE\n",
      "61 DT_DOSEUNI\n",
      "62 DT_1_DOSE\n",
      "63 DT_2_DOSE\n",
      "103 FLUASU_OUT\n",
      "105 FLUBLI_OUT\n",
      "119 CLASSI_OUT\n",
      "126 PAIS_VGM\n",
      "128 LO_PS_VGM\n",
      "129 DT_VGM\n",
      "130 DT_RT_VGM\n",
      "132 PAC_COCBO\n"
     ]
    }
   ],
   "source": [
    "# Exibe o indíce da coluna associado ao rótulo de cada coluna do dataset\n",
    "for k in (18, 59, 61, 62, 63, 103, 105, 119, 126, 128, 129, 130, 132):\n",
    "    print (k, df.columns[k])"
   ]
  },
  {
   "cell_type": "code",
   "execution_count": 4,
   "metadata": {
    "pycharm": {
     "name": "#%%\n"
    }
   },
   "outputs": [
    {
     "data": {
      "text/plain": [
       "(393979, 134)"
      ]
     },
     "execution_count": 4,
     "metadata": {},
     "output_type": "execute_result"
    }
   ],
   "source": [
    "# Return a tuple of the shape of the underlying data.\n",
    "df.shape"
   ]
  },
  {
   "cell_type": "code",
   "execution_count": 5,
   "metadata": {
    "pycharm": {
     "name": "#%%\n"
    }
   },
   "outputs": [
    {
     "name": "stdout",
     "output_type": "stream",
     "text": [
      "<class 'pandas.core.frame.DataFrame'>\n",
      "RangeIndex: 393979 entries, 0 to 393978\n",
      "Columns: 134 entries, DT_NOTIFIC to PAC_DSCBO\n",
      "dtypes: float64(76), int64(10), object(48)\n",
      "memory usage: 402.8+ MB\n"
     ]
    }
   ],
   "source": [
    "# Print a concise summary of a DataFrame.\n",
    "df.info()"
   ]
  },
  {
   "cell_type": "code",
   "execution_count": 6,
   "metadata": {
    "pycharm": {
     "name": "#%%\n"
    }
   },
   "outputs": [
    {
     "name": "stdout",
     "output_type": "stream",
     "text": [
      "(0, 'DT_NOTIFIC')\n",
      "(1, 'SEM_NOT')\n",
      "(2, 'DT_SIN_PRI')\n",
      "(3, 'SEM_PRI')\n",
      "(4, 'SG_UF_NOT')\n",
      "(5, 'ID_REGIONA')\n",
      "(6, 'CO_REGIONA')\n",
      "(7, 'ID_MUNICIP')\n",
      "(8, 'CO_MUN_NOT')\n",
      "(9, 'ID_UNIDADE')\n",
      "(10, 'CO_UNI_NOT')\n",
      "(11, 'CS_SEXO')\n",
      "(12, 'DT_NASC')\n",
      "(13, 'NU_IDADE_N')\n",
      "(14, 'TP_IDADE')\n",
      "(15, 'COD_IDADE')\n",
      "(16, 'CS_GESTANT')\n",
      "(17, 'CS_RACA')\n",
      "(18, 'CS_ETINIA')\n",
      "(19, 'CS_ESCOL_N')\n",
      "(20, 'ID_PAIS')\n",
      "(21, 'CO_PAIS')\n",
      "(22, 'SG_UF')\n",
      "(23, 'ID_RG_RESI')\n",
      "(24, 'CO_RG_RESI')\n",
      "(25, 'ID_MN_RESI')\n",
      "(26, 'CO_MUN_RES')\n",
      "(27, 'CS_ZONA')\n",
      "(28, 'SURTO_SG')\n",
      "(29, 'NOSOCOMIAL')\n",
      "(30, 'AVE_SUINO')\n",
      "(31, 'FEBRE')\n",
      "(32, 'TOSSE')\n",
      "(33, 'GARGANTA')\n",
      "(34, 'DISPNEIA')\n",
      "(35, 'DESC_RESP')\n",
      "(36, 'SATURACAO')\n",
      "(37, 'DIARREIA')\n",
      "(38, 'VOMITO')\n",
      "(39, 'OUTRO_SIN')\n",
      "(40, 'OUTRO_DES')\n",
      "(41, 'PUERPERA')\n",
      "(42, 'CARDIOPATI')\n",
      "(43, 'HEMATOLOGI')\n",
      "(44, 'SIND_DOWN')\n",
      "(45, 'HEPATICA')\n",
      "(46, 'ASMA')\n",
      "(47, 'DIABETES')\n",
      "(48, 'NEUROLOGIC')\n",
      "(49, 'PNEUMOPATI')\n",
      "(50, 'IMUNODEPRE')\n",
      "(51, 'RENAL')\n",
      "(52, 'OBESIDADE')\n",
      "(53, 'OBES_IMC')\n",
      "(54, 'OUT_MORBI')\n",
      "(55, 'MORB_DESC')\n",
      "(56, 'VACINA')\n",
      "(57, 'DT_UT_DOSE')\n",
      "(58, 'MAE_VAC')\n",
      "(59, 'DT_VAC_MAE')\n",
      "(60, 'M_AMAMENTA')\n",
      "(61, 'DT_DOSEUNI')\n",
      "(62, 'DT_1_DOSE')\n",
      "(63, 'DT_2_DOSE')\n",
      "(64, 'ANTIVIRAL')\n",
      "(65, 'TP_ANTIVIR')\n",
      "(66, 'OUT_ANTIV')\n",
      "(67, 'DT_ANTIVIR')\n",
      "(68, 'HOSPITAL')\n",
      "(69, 'DT_INTERNA')\n",
      "(70, 'SG_UF_INTE')\n",
      "(71, 'ID_RG_INTE')\n",
      "(72, 'CO_RG_INTE')\n",
      "(73, 'ID_MN_INTE')\n",
      "(74, 'CO_MU_INTE')\n",
      "(75, 'UTI')\n",
      "(76, 'DT_ENTUTI')\n",
      "(77, 'DT_SAIDUTI')\n",
      "(78, 'SUPORT_VEN')\n",
      "(79, 'RAIOX_RES')\n",
      "(80, 'RAIOX_OUT')\n",
      "(81, 'DT_RAIOX')\n",
      "(82, 'AMOSTRA')\n",
      "(83, 'DT_COLETA')\n",
      "(84, 'TP_AMOSTRA')\n",
      "(85, 'OUT_AMOST')\n",
      "(86, 'IF_RESUL')\n",
      "(87, 'DT_IF')\n",
      "(88, 'POS_IF_FLU')\n",
      "(89, 'TP_FLU_IF')\n",
      "(90, 'POS_IF_OUT')\n",
      "(91, 'IF_VSR')\n",
      "(92, 'IF_PARA1')\n",
      "(93, 'IF_PARA2')\n",
      "(94, 'IF_PARA3')\n",
      "(95, 'IF_ADENO')\n",
      "(96, 'IF_OUTRO')\n",
      "(97, 'DS_IF_OUT')\n",
      "(98, 'PCR_RESUL')\n",
      "(99, 'DT_PCR')\n",
      "(100, 'POS_PCRFLU')\n",
      "(101, 'TP_FLU_PCR')\n",
      "(102, 'PCR_FLUASU')\n",
      "(103, 'FLUASU_OUT')\n",
      "(104, 'PCR_FLUBLI')\n",
      "(105, 'FLUBLI_OUT')\n",
      "(106, 'POS_PCROUT')\n",
      "(107, 'PCR_VSR')\n",
      "(108, 'PCR_PARA1')\n",
      "(109, 'PCR_PARA2')\n",
      "(110, 'PCR_PARA3')\n",
      "(111, 'PCR_PARA4')\n",
      "(112, 'PCR_ADENO')\n",
      "(113, 'PCR_METAP')\n",
      "(114, 'PCR_BOCA')\n",
      "(115, 'PCR_RINO')\n",
      "(116, 'PCR_OUTRO')\n",
      "(117, 'DS_PCR_OUT')\n",
      "(118, 'CLASSI_FIN')\n",
      "(119, 'CLASSI_OUT')\n",
      "(120, 'CRITERIO')\n",
      "(121, 'EVOLUCAO')\n",
      "(122, 'DT_EVOLUCA')\n",
      "(123, 'DT_ENCERRA')\n",
      "(124, 'DT_DIGITA')\n",
      "(125, 'HISTO_VGM')\n",
      "(126, 'PAIS_VGM')\n",
      "(127, 'CO_PS_VGM')\n",
      "(128, 'LO_PS_VGM')\n",
      "(129, 'DT_VGM')\n",
      "(130, 'DT_RT_VGM')\n",
      "(131, 'PCR_SARS2')\n",
      "(132, 'PAC_COCBO')\n",
      "(133, 'PAC_DSCBO')\n"
     ]
    }
   ],
   "source": [
    "for par in enumerate(df.columns): print (par)"
   ]
  },
  {
   "cell_type": "code",
   "execution_count": 7,
   "metadata": {
    "pycharm": {
     "name": "#%%\n"
    }
   },
   "outputs": [],
   "source": [
    "# Tabelas de microdados usam números, faço a correspondência desses números com seus significados\n",
    "troca_raca = {1:'Branca', 2:'Preta', 3:'Amarela', 4:'Parda', 5:'Indígena', 9:'Ignorado'}\n",
    "troca_escolaridade = {0:'Sem', 1:'Fund1', 2:'Fund2', 3:'Médio', 4:'Superior', 5:'Não se aplica', 9:'Ignorado'}"
   ]
  },
  {
   "cell_type": "code",
   "execution_count": 8,
   "metadata": {
    "pycharm": {
     "name": "#%%\n"
    }
   },
   "outputs": [],
   "source": [
    "# Access a group of rows and columns by label(s) or a boolean array.\n",
    "df.loc[(df.CS_RACA.isnull()), 'CS_RACA'] = 9\n",
    "# Invoke function on values of Series. (apply)\n",
    "df['CS_RACA'] = df['CS_RACA'].apply(lambda x: troca_raca[x])\n",
    "df.loc[(df.CS_ESCOL_N.isnull()), 'CS_ESCOL_N'] = 9\n",
    "# Invoke function on values of Series. (apply)\n",
    "df['CS_ESCOL_N'] = df['CS_ESCOL_N'].apply(lambda x: troca_escolaridade[x])\n",
    "df.SEM_NOT = df.SEM_NOT.apply(pd.to_numeric, errors='coerce')\n",
    "# Return ExtensionArray without NA values.\n",
    "df['DT_NOTIFIC'].dropna(inplace=True)"
   ]
  },
  {
   "cell_type": "code",
   "execution_count": 9,
   "metadata": {
    "pycharm": {
     "name": "#%%\n"
    }
   },
   "outputs": [
    {
     "data": {
      "text/html": [
       "<div>\n",
       "<style scoped>\n",
       "    .dataframe tbody tr th:only-of-type {\n",
       "        vertical-align: middle;\n",
       "    }\n",
       "\n",
       "    .dataframe tbody tr th {\n",
       "        vertical-align: top;\n",
       "    }\n",
       "\n",
       "    .dataframe thead th {\n",
       "        text-align: right;\n",
       "    }\n",
       "</style>\n",
       "<table border=\"1\" class=\"dataframe\">\n",
       "  <thead>\n",
       "    <tr style=\"text-align: right;\">\n",
       "      <th></th>\n",
       "      <th>DT_NOTIFIC</th>\n",
       "      <th>SEM_NOT</th>\n",
       "      <th>DT_SIN_PRI</th>\n",
       "      <th>SEM_PRI</th>\n",
       "      <th>SG_UF_NOT</th>\n",
       "      <th>ID_REGIONA</th>\n",
       "      <th>CO_REGIONA</th>\n",
       "      <th>ID_MUNICIP</th>\n",
       "      <th>CO_MUN_NOT</th>\n",
       "      <th>ID_UNIDADE</th>\n",
       "      <th>CO_UNI_NOT</th>\n",
       "      <th>CS_SEXO</th>\n",
       "      <th>DT_NASC</th>\n",
       "      <th>NU_IDADE_N</th>\n",
       "      <th>TP_IDADE</th>\n",
       "      <th>COD_IDADE</th>\n",
       "      <th>CS_GESTANT</th>\n",
       "      <th>CS_RACA</th>\n",
       "      <th>CS_ETINIA</th>\n",
       "      <th>CS_ESCOL_N</th>\n",
       "      <th>ID_PAIS</th>\n",
       "      <th>CO_PAIS</th>\n",
       "      <th>SG_UF</th>\n",
       "      <th>ID_RG_RESI</th>\n",
       "      <th>CO_RG_RESI</th>\n",
       "      <th>ID_MN_RESI</th>\n",
       "      <th>CO_MUN_RES</th>\n",
       "      <th>CS_ZONA</th>\n",
       "      <th>SURTO_SG</th>\n",
       "      <th>NOSOCOMIAL</th>\n",
       "      <th>AVE_SUINO</th>\n",
       "      <th>FEBRE</th>\n",
       "      <th>TOSSE</th>\n",
       "      <th>GARGANTA</th>\n",
       "      <th>DISPNEIA</th>\n",
       "      <th>DESC_RESP</th>\n",
       "      <th>SATURACAO</th>\n",
       "      <th>DIARREIA</th>\n",
       "      <th>VOMITO</th>\n",
       "      <th>OUTRO_SIN</th>\n",
       "      <th>...</th>\n",
       "      <th>IF_PARA3</th>\n",
       "      <th>IF_ADENO</th>\n",
       "      <th>IF_OUTRO</th>\n",
       "      <th>DS_IF_OUT</th>\n",
       "      <th>PCR_RESUL</th>\n",
       "      <th>DT_PCR</th>\n",
       "      <th>POS_PCRFLU</th>\n",
       "      <th>TP_FLU_PCR</th>\n",
       "      <th>PCR_FLUASU</th>\n",
       "      <th>FLUASU_OUT</th>\n",
       "      <th>PCR_FLUBLI</th>\n",
       "      <th>FLUBLI_OUT</th>\n",
       "      <th>POS_PCROUT</th>\n",
       "      <th>PCR_VSR</th>\n",
       "      <th>PCR_PARA1</th>\n",
       "      <th>PCR_PARA2</th>\n",
       "      <th>PCR_PARA3</th>\n",
       "      <th>PCR_PARA4</th>\n",
       "      <th>PCR_ADENO</th>\n",
       "      <th>PCR_METAP</th>\n",
       "      <th>PCR_BOCA</th>\n",
       "      <th>PCR_RINO</th>\n",
       "      <th>PCR_OUTRO</th>\n",
       "      <th>DS_PCR_OUT</th>\n",
       "      <th>CLASSI_FIN</th>\n",
       "      <th>CLASSI_OUT</th>\n",
       "      <th>CRITERIO</th>\n",
       "      <th>EVOLUCAO</th>\n",
       "      <th>DT_EVOLUCA</th>\n",
       "      <th>DT_ENCERRA</th>\n",
       "      <th>DT_DIGITA</th>\n",
       "      <th>HISTO_VGM</th>\n",
       "      <th>PAIS_VGM</th>\n",
       "      <th>CO_PS_VGM</th>\n",
       "      <th>LO_PS_VGM</th>\n",
       "      <th>DT_VGM</th>\n",
       "      <th>DT_RT_VGM</th>\n",
       "      <th>PCR_SARS2</th>\n",
       "      <th>PAC_COCBO</th>\n",
       "      <th>PAC_DSCBO</th>\n",
       "    </tr>\n",
       "  </thead>\n",
       "  <tbody>\n",
       "    <tr>\n",
       "      <th>17471</th>\n",
       "      <td>24/03/2020</td>\n",
       "      <td>13</td>\n",
       "      <td>20/03/2020</td>\n",
       "      <td>12</td>\n",
       "      <td>RJ</td>\n",
       "      <td>NaN</td>\n",
       "      <td>NaN</td>\n",
       "      <td>RIO DE JANEIRO</td>\n",
       "      <td>330455</td>\n",
       "      <td>SES UPA 24H IRAJA AP 33</td>\n",
       "      <td>5955629</td>\n",
       "      <td>F</td>\n",
       "      <td>02/12/1964</td>\n",
       "      <td>55</td>\n",
       "      <td>3</td>\n",
       "      <td>3055</td>\n",
       "      <td>5</td>\n",
       "      <td>Parda</td>\n",
       "      <td>NaN</td>\n",
       "      <td>Ignorado</td>\n",
       "      <td>BRASIL</td>\n",
       "      <td>1</td>\n",
       "      <td>RJ</td>\n",
       "      <td>NaN</td>\n",
       "      <td>NaN</td>\n",
       "      <td>NOVA IGUACU</td>\n",
       "      <td>330350.0</td>\n",
       "      <td>1.0</td>\n",
       "      <td>2.0</td>\n",
       "      <td>2.0</td>\n",
       "      <td>2.0</td>\n",
       "      <td>1.0</td>\n",
       "      <td>1.0</td>\n",
       "      <td>2.0</td>\n",
       "      <td>1.0</td>\n",
       "      <td>1.0</td>\n",
       "      <td>2.0</td>\n",
       "      <td>1.0</td>\n",
       "      <td>1.0</td>\n",
       "      <td>2.0</td>\n",
       "      <td>...</td>\n",
       "      <td>NaN</td>\n",
       "      <td>NaN</td>\n",
       "      <td>NaN</td>\n",
       "      <td>NaN</td>\n",
       "      <td>1.0</td>\n",
       "      <td>02/04/2020</td>\n",
       "      <td>NaN</td>\n",
       "      <td>NaN</td>\n",
       "      <td>NaN</td>\n",
       "      <td>NaN</td>\n",
       "      <td>NaN</td>\n",
       "      <td>NaN</td>\n",
       "      <td>1.0</td>\n",
       "      <td>NaN</td>\n",
       "      <td>NaN</td>\n",
       "      <td>NaN</td>\n",
       "      <td>NaN</td>\n",
       "      <td>NaN</td>\n",
       "      <td>NaN</td>\n",
       "      <td>NaN</td>\n",
       "      <td>NaN</td>\n",
       "      <td>NaN</td>\n",
       "      <td>NaN</td>\n",
       "      <td>NaN</td>\n",
       "      <td>5.0</td>\n",
       "      <td>NaN</td>\n",
       "      <td>1.0</td>\n",
       "      <td>NaN</td>\n",
       "      <td>NaN</td>\n",
       "      <td>NaN</td>\n",
       "      <td>30/03/2020</td>\n",
       "      <td>9</td>\n",
       "      <td>NaN</td>\n",
       "      <td>NaN</td>\n",
       "      <td>NaN</td>\n",
       "      <td>NaN</td>\n",
       "      <td>NaN</td>\n",
       "      <td>1.0</td>\n",
       "      <td>NaN</td>\n",
       "      <td>NaN</td>\n",
       "    </tr>\n",
       "    <tr>\n",
       "      <th>321801</th>\n",
       "      <td>23/06/2020</td>\n",
       "      <td>26</td>\n",
       "      <td>20/06/2020</td>\n",
       "      <td>25</td>\n",
       "      <td>RJ</td>\n",
       "      <td>NaN</td>\n",
       "      <td>NaN</td>\n",
       "      <td>NITEROI</td>\n",
       "      <td>330330</td>\n",
       "      <td>UNIDADE MUNICIPAL DE URGENCIA DOUTOR MARIO MON...</td>\n",
       "      <td>5935377</td>\n",
       "      <td>M</td>\n",
       "      <td>12/05/1951</td>\n",
       "      <td>69</td>\n",
       "      <td>3</td>\n",
       "      <td>3069</td>\n",
       "      <td>6</td>\n",
       "      <td>Parda</td>\n",
       "      <td>NaN</td>\n",
       "      <td>Ignorado</td>\n",
       "      <td>BRASIL</td>\n",
       "      <td>1</td>\n",
       "      <td>RJ</td>\n",
       "      <td>NaN</td>\n",
       "      <td>NaN</td>\n",
       "      <td>SAO GONCALO</td>\n",
       "      <td>330490.0</td>\n",
       "      <td>1.0</td>\n",
       "      <td>2.0</td>\n",
       "      <td>2.0</td>\n",
       "      <td>2.0</td>\n",
       "      <td>1.0</td>\n",
       "      <td>NaN</td>\n",
       "      <td>NaN</td>\n",
       "      <td>NaN</td>\n",
       "      <td>1.0</td>\n",
       "      <td>1.0</td>\n",
       "      <td>NaN</td>\n",
       "      <td>NaN</td>\n",
       "      <td>1.0</td>\n",
       "      <td>...</td>\n",
       "      <td>NaN</td>\n",
       "      <td>NaN</td>\n",
       "      <td>NaN</td>\n",
       "      <td>NaN</td>\n",
       "      <td>NaN</td>\n",
       "      <td>NaN</td>\n",
       "      <td>NaN</td>\n",
       "      <td>NaN</td>\n",
       "      <td>NaN</td>\n",
       "      <td>NaN</td>\n",
       "      <td>NaN</td>\n",
       "      <td>NaN</td>\n",
       "      <td>NaN</td>\n",
       "      <td>NaN</td>\n",
       "      <td>NaN</td>\n",
       "      <td>NaN</td>\n",
       "      <td>NaN</td>\n",
       "      <td>NaN</td>\n",
       "      <td>NaN</td>\n",
       "      <td>NaN</td>\n",
       "      <td>NaN</td>\n",
       "      <td>NaN</td>\n",
       "      <td>NaN</td>\n",
       "      <td>NaN</td>\n",
       "      <td>NaN</td>\n",
       "      <td>NaN</td>\n",
       "      <td>NaN</td>\n",
       "      <td>NaN</td>\n",
       "      <td>NaN</td>\n",
       "      <td>NaN</td>\n",
       "      <td>23/06/2020</td>\n",
       "      <td>2</td>\n",
       "      <td>NaN</td>\n",
       "      <td>NaN</td>\n",
       "      <td>NaN</td>\n",
       "      <td>NaN</td>\n",
       "      <td>NaN</td>\n",
       "      <td>NaN</td>\n",
       "      <td>NaN</td>\n",
       "      <td>NaN</td>\n",
       "    </tr>\n",
       "    <tr>\n",
       "      <th>29392</th>\n",
       "      <td>06/04/2020</td>\n",
       "      <td>15</td>\n",
       "      <td>03/04/2020</td>\n",
       "      <td>14</td>\n",
       "      <td>SP</td>\n",
       "      <td>GVE XXIX SAO JOSE DO RIO PRETO</td>\n",
       "      <td>1354.0</td>\n",
       "      <td>SAO JOSE DO RIO PRETO</td>\n",
       "      <td>354980</td>\n",
       "      <td>SANTA CASA DE MISERICORDIA DE SAO JOSE DO RIO ...</td>\n",
       "      <td>2798298</td>\n",
       "      <td>M</td>\n",
       "      <td>02/11/1964</td>\n",
       "      <td>55</td>\n",
       "      <td>3</td>\n",
       "      <td>3055</td>\n",
       "      <td>6</td>\n",
       "      <td>Branca</td>\n",
       "      <td>NaN</td>\n",
       "      <td>Ignorado</td>\n",
       "      <td>BRASIL</td>\n",
       "      <td>1</td>\n",
       "      <td>SP</td>\n",
       "      <td>GVE XXIX SAO JOSE DO RIO PRETO</td>\n",
       "      <td>1354.0</td>\n",
       "      <td>SAO JOSE DO RIO PRETO</td>\n",
       "      <td>354980.0</td>\n",
       "      <td>2.0</td>\n",
       "      <td>2.0</td>\n",
       "      <td>2.0</td>\n",
       "      <td>2.0</td>\n",
       "      <td>2.0</td>\n",
       "      <td>2.0</td>\n",
       "      <td>2.0</td>\n",
       "      <td>1.0</td>\n",
       "      <td>1.0</td>\n",
       "      <td>1.0</td>\n",
       "      <td>2.0</td>\n",
       "      <td>2.0</td>\n",
       "      <td>2.0</td>\n",
       "      <td>...</td>\n",
       "      <td>NaN</td>\n",
       "      <td>NaN</td>\n",
       "      <td>NaN</td>\n",
       "      <td>NaN</td>\n",
       "      <td>2.0</td>\n",
       "      <td>16/04/2020</td>\n",
       "      <td>NaN</td>\n",
       "      <td>NaN</td>\n",
       "      <td>NaN</td>\n",
       "      <td>NaN</td>\n",
       "      <td>NaN</td>\n",
       "      <td>NaN</td>\n",
       "      <td>NaN</td>\n",
       "      <td>NaN</td>\n",
       "      <td>NaN</td>\n",
       "      <td>NaN</td>\n",
       "      <td>NaN</td>\n",
       "      <td>NaN</td>\n",
       "      <td>NaN</td>\n",
       "      <td>NaN</td>\n",
       "      <td>NaN</td>\n",
       "      <td>NaN</td>\n",
       "      <td>NaN</td>\n",
       "      <td>NaN</td>\n",
       "      <td>4.0</td>\n",
       "      <td>NaN</td>\n",
       "      <td>1.0</td>\n",
       "      <td>1.0</td>\n",
       "      <td>20/04/2020</td>\n",
       "      <td>12/04/2020</td>\n",
       "      <td>06/04/2020</td>\n",
       "      <td>2</td>\n",
       "      <td>NaN</td>\n",
       "      <td>NaN</td>\n",
       "      <td>NaN</td>\n",
       "      <td>NaN</td>\n",
       "      <td>NaN</td>\n",
       "      <td>NaN</td>\n",
       "      <td>NaN</td>\n",
       "      <td>NaN</td>\n",
       "    </tr>\n",
       "    <tr>\n",
       "      <th>207923</th>\n",
       "      <td>16/05/2020</td>\n",
       "      <td>20</td>\n",
       "      <td>01/05/2020</td>\n",
       "      <td>18</td>\n",
       "      <td>RJ</td>\n",
       "      <td>NaN</td>\n",
       "      <td>NaN</td>\n",
       "      <td>RIO DE JANEIRO</td>\n",
       "      <td>330455</td>\n",
       "      <td>SES RJ UPA 24H TIJUCA</td>\n",
       "      <td>5955661</td>\n",
       "      <td>M</td>\n",
       "      <td>28/05/1988</td>\n",
       "      <td>31</td>\n",
       "      <td>3</td>\n",
       "      <td>3031</td>\n",
       "      <td>6</td>\n",
       "      <td>Ignorado</td>\n",
       "      <td>NaN</td>\n",
       "      <td>Ignorado</td>\n",
       "      <td>BRASIL</td>\n",
       "      <td>1</td>\n",
       "      <td>RJ</td>\n",
       "      <td>NaN</td>\n",
       "      <td>NaN</td>\n",
       "      <td>DUQUE DE CAXIAS</td>\n",
       "      <td>330170.0</td>\n",
       "      <td>1.0</td>\n",
       "      <td>NaN</td>\n",
       "      <td>NaN</td>\n",
       "      <td>NaN</td>\n",
       "      <td>1.0</td>\n",
       "      <td>1.0</td>\n",
       "      <td>NaN</td>\n",
       "      <td>1.0</td>\n",
       "      <td>NaN</td>\n",
       "      <td>1.0</td>\n",
       "      <td>NaN</td>\n",
       "      <td>NaN</td>\n",
       "      <td>1.0</td>\n",
       "      <td>...</td>\n",
       "      <td>NaN</td>\n",
       "      <td>NaN</td>\n",
       "      <td>NaN</td>\n",
       "      <td>NaN</td>\n",
       "      <td>5.0</td>\n",
       "      <td>NaN</td>\n",
       "      <td>NaN</td>\n",
       "      <td>NaN</td>\n",
       "      <td>NaN</td>\n",
       "      <td>NaN</td>\n",
       "      <td>NaN</td>\n",
       "      <td>NaN</td>\n",
       "      <td>NaN</td>\n",
       "      <td>NaN</td>\n",
       "      <td>NaN</td>\n",
       "      <td>NaN</td>\n",
       "      <td>NaN</td>\n",
       "      <td>NaN</td>\n",
       "      <td>NaN</td>\n",
       "      <td>NaN</td>\n",
       "      <td>NaN</td>\n",
       "      <td>NaN</td>\n",
       "      <td>NaN</td>\n",
       "      <td>NaN</td>\n",
       "      <td>NaN</td>\n",
       "      <td>NaN</td>\n",
       "      <td>NaN</td>\n",
       "      <td>NaN</td>\n",
       "      <td>NaN</td>\n",
       "      <td>NaN</td>\n",
       "      <td>01/06/2020</td>\n",
       "      <td>0</td>\n",
       "      <td>NaN</td>\n",
       "      <td>NaN</td>\n",
       "      <td>NaN</td>\n",
       "      <td>NaN</td>\n",
       "      <td>NaN</td>\n",
       "      <td>NaN</td>\n",
       "      <td>NaN</td>\n",
       "      <td>NaN</td>\n",
       "    </tr>\n",
       "    <tr>\n",
       "      <th>337526</th>\n",
       "      <td>12/06/2020</td>\n",
       "      <td>24</td>\n",
       "      <td>10/06/2020</td>\n",
       "      <td>24</td>\n",
       "      <td>PI</td>\n",
       "      <td>4 GRS TERESINA</td>\n",
       "      <td>1883.0</td>\n",
       "      <td>TERESINA</td>\n",
       "      <td>221100</td>\n",
       "      <td>UNIDADE DE SAUDE SATELITE</td>\n",
       "      <td>2679639</td>\n",
       "      <td>F</td>\n",
       "      <td>31/05/1927</td>\n",
       "      <td>93</td>\n",
       "      <td>3</td>\n",
       "      <td>3093</td>\n",
       "      <td>9</td>\n",
       "      <td>Parda</td>\n",
       "      <td>NaN</td>\n",
       "      <td>Superior</td>\n",
       "      <td>BRASIL</td>\n",
       "      <td>1</td>\n",
       "      <td>PI</td>\n",
       "      <td>4 GRS TERESINA</td>\n",
       "      <td>1883.0</td>\n",
       "      <td>TERESINA</td>\n",
       "      <td>221100.0</td>\n",
       "      <td>1.0</td>\n",
       "      <td>9.0</td>\n",
       "      <td>9.0</td>\n",
       "      <td>9.0</td>\n",
       "      <td>2.0</td>\n",
       "      <td>1.0</td>\n",
       "      <td>2.0</td>\n",
       "      <td>2.0</td>\n",
       "      <td>2.0</td>\n",
       "      <td>1.0</td>\n",
       "      <td>2.0</td>\n",
       "      <td>2.0</td>\n",
       "      <td>9.0</td>\n",
       "      <td>...</td>\n",
       "      <td>NaN</td>\n",
       "      <td>NaN</td>\n",
       "      <td>NaN</td>\n",
       "      <td>NaN</td>\n",
       "      <td>1.0</td>\n",
       "      <td>13/06/2020</td>\n",
       "      <td>NaN</td>\n",
       "      <td>NaN</td>\n",
       "      <td>NaN</td>\n",
       "      <td>NaN</td>\n",
       "      <td>NaN</td>\n",
       "      <td>NaN</td>\n",
       "      <td>1.0</td>\n",
       "      <td>NaN</td>\n",
       "      <td>NaN</td>\n",
       "      <td>NaN</td>\n",
       "      <td>NaN</td>\n",
       "      <td>NaN</td>\n",
       "      <td>NaN</td>\n",
       "      <td>NaN</td>\n",
       "      <td>NaN</td>\n",
       "      <td>NaN</td>\n",
       "      <td>NaN</td>\n",
       "      <td>NaN</td>\n",
       "      <td>5.0</td>\n",
       "      <td>NaN</td>\n",
       "      <td>1.0</td>\n",
       "      <td>1.0</td>\n",
       "      <td>12/06/2020</td>\n",
       "      <td>30/06/2020</td>\n",
       "      <td>26/06/2020</td>\n",
       "      <td>2</td>\n",
       "      <td>NaN</td>\n",
       "      <td>NaN</td>\n",
       "      <td>NaN</td>\n",
       "      <td>NaN</td>\n",
       "      <td>NaN</td>\n",
       "      <td>1.0</td>\n",
       "      <td>NaN</td>\n",
       "      <td>NaN</td>\n",
       "    </tr>\n",
       "    <tr>\n",
       "      <th>48669</th>\n",
       "      <td>15/04/2020</td>\n",
       "      <td>16</td>\n",
       "      <td>10/04/2020</td>\n",
       "      <td>15</td>\n",
       "      <td>ES</td>\n",
       "      <td>METROPOLITANA</td>\n",
       "      <td>1510.0</td>\n",
       "      <td>VITORIA</td>\n",
       "      <td>320530</td>\n",
       "      <td>HOSPITAL INFANTIL NOSSA SENHORA DA GLORIA</td>\n",
       "      <td>11800</td>\n",
       "      <td>F</td>\n",
       "      <td>12/07/2010</td>\n",
       "      <td>9</td>\n",
       "      <td>3</td>\n",
       "      <td>3009</td>\n",
       "      <td>6</td>\n",
       "      <td>Parda</td>\n",
       "      <td>NaN</td>\n",
       "      <td>Ignorado</td>\n",
       "      <td>BRASIL</td>\n",
       "      <td>1</td>\n",
       "      <td>ES</td>\n",
       "      <td>METROPOLITANA</td>\n",
       "      <td>1510.0</td>\n",
       "      <td>CARIACICA</td>\n",
       "      <td>320130.0</td>\n",
       "      <td>1.0</td>\n",
       "      <td>2.0</td>\n",
       "      <td>2.0</td>\n",
       "      <td>2.0</td>\n",
       "      <td>1.0</td>\n",
       "      <td>1.0</td>\n",
       "      <td>2.0</td>\n",
       "      <td>2.0</td>\n",
       "      <td>1.0</td>\n",
       "      <td>1.0</td>\n",
       "      <td>2.0</td>\n",
       "      <td>1.0</td>\n",
       "      <td>1.0</td>\n",
       "      <td>...</td>\n",
       "      <td>NaN</td>\n",
       "      <td>NaN</td>\n",
       "      <td>NaN</td>\n",
       "      <td>NaN</td>\n",
       "      <td>2.0</td>\n",
       "      <td>16/04/2020</td>\n",
       "      <td>NaN</td>\n",
       "      <td>NaN</td>\n",
       "      <td>NaN</td>\n",
       "      <td>NaN</td>\n",
       "      <td>NaN</td>\n",
       "      <td>NaN</td>\n",
       "      <td>NaN</td>\n",
       "      <td>NaN</td>\n",
       "      <td>NaN</td>\n",
       "      <td>NaN</td>\n",
       "      <td>NaN</td>\n",
       "      <td>NaN</td>\n",
       "      <td>NaN</td>\n",
       "      <td>NaN</td>\n",
       "      <td>NaN</td>\n",
       "      <td>NaN</td>\n",
       "      <td>NaN</td>\n",
       "      <td>NaN</td>\n",
       "      <td>4.0</td>\n",
       "      <td>NaN</td>\n",
       "      <td>1.0</td>\n",
       "      <td>1.0</td>\n",
       "      <td>17/04/2020</td>\n",
       "      <td>24/04/2020</td>\n",
       "      <td>15/04/2020</td>\n",
       "      <td>2</td>\n",
       "      <td>NaN</td>\n",
       "      <td>NaN</td>\n",
       "      <td>NaN</td>\n",
       "      <td>NaN</td>\n",
       "      <td>NaN</td>\n",
       "      <td>NaN</td>\n",
       "      <td>NaN</td>\n",
       "      <td>NaN</td>\n",
       "    </tr>\n",
       "    <tr>\n",
       "      <th>28143</th>\n",
       "      <td>03/04/2020</td>\n",
       "      <td>14</td>\n",
       "      <td>03/04/2020</td>\n",
       "      <td>14</td>\n",
       "      <td>SP</td>\n",
       "      <td>GVE XV BAURU</td>\n",
       "      <td>1340.0</td>\n",
       "      <td>LENCOIS PAULISTA</td>\n",
       "      <td>352680</td>\n",
       "      <td>UNIDADE DE PRONTO ATENDIMENTO DE LENCOIS PAULISTA</td>\n",
       "      <td>5625416</td>\n",
       "      <td>M</td>\n",
       "      <td>06/10/1951</td>\n",
       "      <td>68</td>\n",
       "      <td>3</td>\n",
       "      <td>3068</td>\n",
       "      <td>6</td>\n",
       "      <td>Branca</td>\n",
       "      <td>NaN</td>\n",
       "      <td>Ignorado</td>\n",
       "      <td>BRASIL</td>\n",
       "      <td>1</td>\n",
       "      <td>SP</td>\n",
       "      <td>GVE XV BAURU</td>\n",
       "      <td>1340.0</td>\n",
       "      <td>LENCOIS PAULISTA</td>\n",
       "      <td>352680.0</td>\n",
       "      <td>1.0</td>\n",
       "      <td>1.0</td>\n",
       "      <td>2.0</td>\n",
       "      <td>2.0</td>\n",
       "      <td>1.0</td>\n",
       "      <td>1.0</td>\n",
       "      <td>2.0</td>\n",
       "      <td>1.0</td>\n",
       "      <td>1.0</td>\n",
       "      <td>1.0</td>\n",
       "      <td>2.0</td>\n",
       "      <td>2.0</td>\n",
       "      <td>2.0</td>\n",
       "      <td>...</td>\n",
       "      <td>NaN</td>\n",
       "      <td>NaN</td>\n",
       "      <td>NaN</td>\n",
       "      <td>NaN</td>\n",
       "      <td>2.0</td>\n",
       "      <td>13/04/2020</td>\n",
       "      <td>NaN</td>\n",
       "      <td>NaN</td>\n",
       "      <td>NaN</td>\n",
       "      <td>NaN</td>\n",
       "      <td>NaN</td>\n",
       "      <td>NaN</td>\n",
       "      <td>NaN</td>\n",
       "      <td>NaN</td>\n",
       "      <td>NaN</td>\n",
       "      <td>NaN</td>\n",
       "      <td>NaN</td>\n",
       "      <td>NaN</td>\n",
       "      <td>NaN</td>\n",
       "      <td>NaN</td>\n",
       "      <td>NaN</td>\n",
       "      <td>NaN</td>\n",
       "      <td>NaN</td>\n",
       "      <td>NaN</td>\n",
       "      <td>4.0</td>\n",
       "      <td>NaN</td>\n",
       "      <td>1.0</td>\n",
       "      <td>2.0</td>\n",
       "      <td>03/04/2020</td>\n",
       "      <td>13/04/2020</td>\n",
       "      <td>03/04/2020</td>\n",
       "      <td>2</td>\n",
       "      <td>NaN</td>\n",
       "      <td>NaN</td>\n",
       "      <td>NaN</td>\n",
       "      <td>NaN</td>\n",
       "      <td>NaN</td>\n",
       "      <td>NaN</td>\n",
       "      <td>NaN</td>\n",
       "      <td>NaN</td>\n",
       "    </tr>\n",
       "    <tr>\n",
       "      <th>370216</th>\n",
       "      <td>28/06/2020</td>\n",
       "      <td>27</td>\n",
       "      <td>26/06/2020</td>\n",
       "      <td>26</td>\n",
       "      <td>MG</td>\n",
       "      <td>BELO HORIZONTE</td>\n",
       "      <td>1449.0</td>\n",
       "      <td>BELO HORIZONTE</td>\n",
       "      <td>310620</td>\n",
       "      <td>SANTA CASA DE BELO HORIZONTE</td>\n",
       "      <td>27014</td>\n",
       "      <td>F</td>\n",
       "      <td>26/09/1934</td>\n",
       "      <td>85</td>\n",
       "      <td>3</td>\n",
       "      <td>3085</td>\n",
       "      <td>5</td>\n",
       "      <td>Ignorado</td>\n",
       "      <td>NaN</td>\n",
       "      <td>Ignorado</td>\n",
       "      <td>BRASIL</td>\n",
       "      <td>1</td>\n",
       "      <td>MG</td>\n",
       "      <td>BELO HORIZONTE</td>\n",
       "      <td>1449.0</td>\n",
       "      <td>BELO HORIZONTE</td>\n",
       "      <td>310620.0</td>\n",
       "      <td>1.0</td>\n",
       "      <td>2.0</td>\n",
       "      <td>1.0</td>\n",
       "      <td>2.0</td>\n",
       "      <td>2.0</td>\n",
       "      <td>2.0</td>\n",
       "      <td>2.0</td>\n",
       "      <td>1.0</td>\n",
       "      <td>2.0</td>\n",
       "      <td>2.0</td>\n",
       "      <td>2.0</td>\n",
       "      <td>2.0</td>\n",
       "      <td>2.0</td>\n",
       "      <td>...</td>\n",
       "      <td>NaN</td>\n",
       "      <td>NaN</td>\n",
       "      <td>NaN</td>\n",
       "      <td>NaN</td>\n",
       "      <td>5.0</td>\n",
       "      <td>NaN</td>\n",
       "      <td>NaN</td>\n",
       "      <td>NaN</td>\n",
       "      <td>NaN</td>\n",
       "      <td>NaN</td>\n",
       "      <td>NaN</td>\n",
       "      <td>NaN</td>\n",
       "      <td>NaN</td>\n",
       "      <td>NaN</td>\n",
       "      <td>NaN</td>\n",
       "      <td>NaN</td>\n",
       "      <td>NaN</td>\n",
       "      <td>NaN</td>\n",
       "      <td>NaN</td>\n",
       "      <td>NaN</td>\n",
       "      <td>NaN</td>\n",
       "      <td>NaN</td>\n",
       "      <td>NaN</td>\n",
       "      <td>NaN</td>\n",
       "      <td>NaN</td>\n",
       "      <td>NaN</td>\n",
       "      <td>NaN</td>\n",
       "      <td>NaN</td>\n",
       "      <td>NaN</td>\n",
       "      <td>NaN</td>\n",
       "      <td>02/07/2020</td>\n",
       "      <td>2</td>\n",
       "      <td>NaN</td>\n",
       "      <td>NaN</td>\n",
       "      <td>NaN</td>\n",
       "      <td>NaN</td>\n",
       "      <td>NaN</td>\n",
       "      <td>NaN</td>\n",
       "      <td>NaN</td>\n",
       "      <td>NaN</td>\n",
       "    </tr>\n",
       "    <tr>\n",
       "      <th>252872</th>\n",
       "      <td>06/06/2020</td>\n",
       "      <td>23</td>\n",
       "      <td>04/06/2020</td>\n",
       "      <td>23</td>\n",
       "      <td>MS</td>\n",
       "      <td>EX ARS DE CAMPO GRANDE</td>\n",
       "      <td>1975.0</td>\n",
       "      <td>CAMPO GRANDE</td>\n",
       "      <td>500270</td>\n",
       "      <td>HOSPITAL CASSEMS UNIDADE DE CAMPO GRANDE</td>\n",
       "      <td>9081496</td>\n",
       "      <td>M</td>\n",
       "      <td>03/03/1932</td>\n",
       "      <td>88</td>\n",
       "      <td>3</td>\n",
       "      <td>3088</td>\n",
       "      <td>6</td>\n",
       "      <td>Branca</td>\n",
       "      <td>NaN</td>\n",
       "      <td>Ignorado</td>\n",
       "      <td>BRASIL</td>\n",
       "      <td>1</td>\n",
       "      <td>MS</td>\n",
       "      <td>EX ARS DE CAMPO GRANDE</td>\n",
       "      <td>1975.0</td>\n",
       "      <td>CAMPO GRANDE</td>\n",
       "      <td>500270.0</td>\n",
       "      <td>1.0</td>\n",
       "      <td>1.0</td>\n",
       "      <td>2.0</td>\n",
       "      <td>2.0</td>\n",
       "      <td>2.0</td>\n",
       "      <td>1.0</td>\n",
       "      <td>2.0</td>\n",
       "      <td>1.0</td>\n",
       "      <td>1.0</td>\n",
       "      <td>1.0</td>\n",
       "      <td>2.0</td>\n",
       "      <td>1.0</td>\n",
       "      <td>NaN</td>\n",
       "      <td>...</td>\n",
       "      <td>NaN</td>\n",
       "      <td>NaN</td>\n",
       "      <td>NaN</td>\n",
       "      <td>NaN</td>\n",
       "      <td>2.0</td>\n",
       "      <td>11/06/2020</td>\n",
       "      <td>NaN</td>\n",
       "      <td>NaN</td>\n",
       "      <td>NaN</td>\n",
       "      <td>NaN</td>\n",
       "      <td>NaN</td>\n",
       "      <td>NaN</td>\n",
       "      <td>NaN</td>\n",
       "      <td>NaN</td>\n",
       "      <td>NaN</td>\n",
       "      <td>NaN</td>\n",
       "      <td>NaN</td>\n",
       "      <td>NaN</td>\n",
       "      <td>NaN</td>\n",
       "      <td>NaN</td>\n",
       "      <td>NaN</td>\n",
       "      <td>NaN</td>\n",
       "      <td>NaN</td>\n",
       "      <td>NaN</td>\n",
       "      <td>4.0</td>\n",
       "      <td>NaN</td>\n",
       "      <td>1.0</td>\n",
       "      <td>1.0</td>\n",
       "      <td>21/06/2020</td>\n",
       "      <td>25/06/2020</td>\n",
       "      <td>10/06/2020</td>\n",
       "      <td>0</td>\n",
       "      <td>NaN</td>\n",
       "      <td>NaN</td>\n",
       "      <td>NaN</td>\n",
       "      <td>NaN</td>\n",
       "      <td>NaN</td>\n",
       "      <td>NaN</td>\n",
       "      <td>NaN</td>\n",
       "      <td>NaN</td>\n",
       "    </tr>\n",
       "    <tr>\n",
       "      <th>316069</th>\n",
       "      <td>18/06/2020</td>\n",
       "      <td>25</td>\n",
       "      <td>18/06/2020</td>\n",
       "      <td>25</td>\n",
       "      <td>RS</td>\n",
       "      <td>012 CRS</td>\n",
       "      <td>1601.0</td>\n",
       "      <td>SANTO ANGELO</td>\n",
       "      <td>431750</td>\n",
       "      <td>HOSPITAL SANTO ANGELO</td>\n",
       "      <td>2259907</td>\n",
       "      <td>F</td>\n",
       "      <td>03/07/1952</td>\n",
       "      <td>67</td>\n",
       "      <td>3</td>\n",
       "      <td>3067</td>\n",
       "      <td>5</td>\n",
       "      <td>Branca</td>\n",
       "      <td>NaN</td>\n",
       "      <td>Ignorado</td>\n",
       "      <td>BRASIL</td>\n",
       "      <td>1</td>\n",
       "      <td>RS</td>\n",
       "      <td>012 CRS</td>\n",
       "      <td>1601.0</td>\n",
       "      <td>SANTO ANGELO</td>\n",
       "      <td>431750.0</td>\n",
       "      <td>1.0</td>\n",
       "      <td>2.0</td>\n",
       "      <td>2.0</td>\n",
       "      <td>2.0</td>\n",
       "      <td>2.0</td>\n",
       "      <td>1.0</td>\n",
       "      <td>2.0</td>\n",
       "      <td>1.0</td>\n",
       "      <td>1.0</td>\n",
       "      <td>1.0</td>\n",
       "      <td>2.0</td>\n",
       "      <td>2.0</td>\n",
       "      <td>2.0</td>\n",
       "      <td>...</td>\n",
       "      <td>NaN</td>\n",
       "      <td>NaN</td>\n",
       "      <td>NaN</td>\n",
       "      <td>NaN</td>\n",
       "      <td>2.0</td>\n",
       "      <td>24/06/2020</td>\n",
       "      <td>NaN</td>\n",
       "      <td>NaN</td>\n",
       "      <td>NaN</td>\n",
       "      <td>NaN</td>\n",
       "      <td>NaN</td>\n",
       "      <td>NaN</td>\n",
       "      <td>NaN</td>\n",
       "      <td>NaN</td>\n",
       "      <td>NaN</td>\n",
       "      <td>NaN</td>\n",
       "      <td>NaN</td>\n",
       "      <td>NaN</td>\n",
       "      <td>NaN</td>\n",
       "      <td>NaN</td>\n",
       "      <td>NaN</td>\n",
       "      <td>NaN</td>\n",
       "      <td>NaN</td>\n",
       "      <td>NaN</td>\n",
       "      <td>NaN</td>\n",
       "      <td>NaN</td>\n",
       "      <td>NaN</td>\n",
       "      <td>1.0</td>\n",
       "      <td>27/06/2020</td>\n",
       "      <td>29/06/2020</td>\n",
       "      <td>22/06/2020</td>\n",
       "      <td>0</td>\n",
       "      <td>NaN</td>\n",
       "      <td>NaN</td>\n",
       "      <td>NaN</td>\n",
       "      <td>NaN</td>\n",
       "      <td>NaN</td>\n",
       "      <td>NaN</td>\n",
       "      <td>NaN</td>\n",
       "      <td>NaN</td>\n",
       "    </tr>\n",
       "  </tbody>\n",
       "</table>\n",
       "<p>10 rows × 134 columns</p>\n",
       "</div>"
      ],
      "text/plain": [
       "        DT_NOTIFIC  SEM_NOT  DT_SIN_PRI  SEM_PRI SG_UF_NOT  \\\n",
       "17471   24/03/2020       13  20/03/2020       12        RJ   \n",
       "321801  23/06/2020       26  20/06/2020       25        RJ   \n",
       "29392   06/04/2020       15  03/04/2020       14        SP   \n",
       "207923  16/05/2020       20  01/05/2020       18        RJ   \n",
       "337526  12/06/2020       24  10/06/2020       24        PI   \n",
       "48669   15/04/2020       16  10/04/2020       15        ES   \n",
       "28143   03/04/2020       14  03/04/2020       14        SP   \n",
       "370216  28/06/2020       27  26/06/2020       26        MG   \n",
       "252872  06/06/2020       23  04/06/2020       23        MS   \n",
       "316069  18/06/2020       25  18/06/2020       25        RS   \n",
       "\n",
       "                            ID_REGIONA  CO_REGIONA             ID_MUNICIP  \\\n",
       "17471                              NaN         NaN         RIO DE JANEIRO   \n",
       "321801                             NaN         NaN                NITEROI   \n",
       "29392   GVE XXIX SAO JOSE DO RIO PRETO      1354.0  SAO JOSE DO RIO PRETO   \n",
       "207923                             NaN         NaN         RIO DE JANEIRO   \n",
       "337526                  4 GRS TERESINA      1883.0               TERESINA   \n",
       "48669                    METROPOLITANA      1510.0                VITORIA   \n",
       "28143                     GVE XV BAURU      1340.0       LENCOIS PAULISTA   \n",
       "370216                  BELO HORIZONTE      1449.0         BELO HORIZONTE   \n",
       "252872          EX ARS DE CAMPO GRANDE      1975.0           CAMPO GRANDE   \n",
       "316069                         012 CRS      1601.0           SANTO ANGELO   \n",
       "\n",
       "        CO_MUN_NOT                                         ID_UNIDADE  \\\n",
       "17471       330455                            SES UPA 24H IRAJA AP 33   \n",
       "321801      330330  UNIDADE MUNICIPAL DE URGENCIA DOUTOR MARIO MON...   \n",
       "29392       354980  SANTA CASA DE MISERICORDIA DE SAO JOSE DO RIO ...   \n",
       "207923      330455                              SES RJ UPA 24H TIJUCA   \n",
       "337526      221100                          UNIDADE DE SAUDE SATELITE   \n",
       "48669       320530          HOSPITAL INFANTIL NOSSA SENHORA DA GLORIA   \n",
       "28143       352680  UNIDADE DE PRONTO ATENDIMENTO DE LENCOIS PAULISTA   \n",
       "370216      310620                       SANTA CASA DE BELO HORIZONTE   \n",
       "252872      500270           HOSPITAL CASSEMS UNIDADE DE CAMPO GRANDE   \n",
       "316069      431750                              HOSPITAL SANTO ANGELO   \n",
       "\n",
       "        CO_UNI_NOT CS_SEXO     DT_NASC  NU_IDADE_N  TP_IDADE  COD_IDADE  \\\n",
       "17471      5955629       F  02/12/1964          55         3       3055   \n",
       "321801     5935377       M  12/05/1951          69         3       3069   \n",
       "29392      2798298       M  02/11/1964          55         3       3055   \n",
       "207923     5955661       M  28/05/1988          31         3       3031   \n",
       "337526     2679639       F  31/05/1927          93         3       3093   \n",
       "48669        11800       F  12/07/2010           9         3       3009   \n",
       "28143      5625416       M  06/10/1951          68         3       3068   \n",
       "370216       27014       F  26/09/1934          85         3       3085   \n",
       "252872     9081496       M  03/03/1932          88         3       3088   \n",
       "316069     2259907       F  03/07/1952          67         3       3067   \n",
       "\n",
       "        CS_GESTANT   CS_RACA CS_ETINIA CS_ESCOL_N ID_PAIS  CO_PAIS SG_UF  \\\n",
       "17471            5     Parda       NaN   Ignorado  BRASIL        1    RJ   \n",
       "321801           6     Parda       NaN   Ignorado  BRASIL        1    RJ   \n",
       "29392            6    Branca       NaN   Ignorado  BRASIL        1    SP   \n",
       "207923           6  Ignorado       NaN   Ignorado  BRASIL        1    RJ   \n",
       "337526           9     Parda       NaN   Superior  BRASIL        1    PI   \n",
       "48669            6     Parda       NaN   Ignorado  BRASIL        1    ES   \n",
       "28143            6    Branca       NaN   Ignorado  BRASIL        1    SP   \n",
       "370216           5  Ignorado       NaN   Ignorado  BRASIL        1    MG   \n",
       "252872           6    Branca       NaN   Ignorado  BRASIL        1    MS   \n",
       "316069           5    Branca       NaN   Ignorado  BRASIL        1    RS   \n",
       "\n",
       "                            ID_RG_RESI  CO_RG_RESI             ID_MN_RESI  \\\n",
       "17471                              NaN         NaN            NOVA IGUACU   \n",
       "321801                             NaN         NaN            SAO GONCALO   \n",
       "29392   GVE XXIX SAO JOSE DO RIO PRETO      1354.0  SAO JOSE DO RIO PRETO   \n",
       "207923                             NaN         NaN        DUQUE DE CAXIAS   \n",
       "337526                  4 GRS TERESINA      1883.0               TERESINA   \n",
       "48669                    METROPOLITANA      1510.0              CARIACICA   \n",
       "28143                     GVE XV BAURU      1340.0       LENCOIS PAULISTA   \n",
       "370216                  BELO HORIZONTE      1449.0         BELO HORIZONTE   \n",
       "252872          EX ARS DE CAMPO GRANDE      1975.0           CAMPO GRANDE   \n",
       "316069                         012 CRS      1601.0           SANTO ANGELO   \n",
       "\n",
       "        CO_MUN_RES  CS_ZONA  SURTO_SG  NOSOCOMIAL  AVE_SUINO  FEBRE  TOSSE  \\\n",
       "17471     330350.0      1.0       2.0         2.0        2.0    1.0    1.0   \n",
       "321801    330490.0      1.0       2.0         2.0        2.0    1.0    NaN   \n",
       "29392     354980.0      2.0       2.0         2.0        2.0    2.0    2.0   \n",
       "207923    330170.0      1.0       NaN         NaN        NaN    1.0    1.0   \n",
       "337526    221100.0      1.0       9.0         9.0        9.0    2.0    1.0   \n",
       "48669     320130.0      1.0       2.0         2.0        2.0    1.0    1.0   \n",
       "28143     352680.0      1.0       1.0         2.0        2.0    1.0    1.0   \n",
       "370216    310620.0      1.0       2.0         1.0        2.0    2.0    2.0   \n",
       "252872    500270.0      1.0       1.0         2.0        2.0    2.0    1.0   \n",
       "316069    431750.0      1.0       2.0         2.0        2.0    2.0    1.0   \n",
       "\n",
       "        GARGANTA  DISPNEIA  DESC_RESP  SATURACAO  DIARREIA  VOMITO  OUTRO_SIN  \\\n",
       "17471        2.0       1.0        1.0        2.0       1.0     1.0        2.0   \n",
       "321801       NaN       NaN        1.0        1.0       NaN     NaN        1.0   \n",
       "29392        2.0       1.0        1.0        1.0       2.0     2.0        2.0   \n",
       "207923       NaN       1.0        NaN        1.0       NaN     NaN        1.0   \n",
       "337526       2.0       2.0        2.0        1.0       2.0     2.0        9.0   \n",
       "48669        2.0       2.0        1.0        1.0       2.0     1.0        1.0   \n",
       "28143        2.0       1.0        1.0        1.0       2.0     2.0        2.0   \n",
       "370216       2.0       1.0        2.0        2.0       2.0     2.0        2.0   \n",
       "252872       2.0       1.0        1.0        1.0       2.0     1.0        NaN   \n",
       "316069       2.0       1.0        1.0        1.0       2.0     2.0        2.0   \n",
       "\n",
       "        ... IF_PARA3  IF_ADENO  IF_OUTRO  DS_IF_OUT  PCR_RESUL      DT_PCR  \\\n",
       "17471   ...      NaN       NaN       NaN        NaN        1.0  02/04/2020   \n",
       "321801  ...      NaN       NaN       NaN        NaN        NaN         NaN   \n",
       "29392   ...      NaN       NaN       NaN        NaN        2.0  16/04/2020   \n",
       "207923  ...      NaN       NaN       NaN        NaN        5.0         NaN   \n",
       "337526  ...      NaN       NaN       NaN        NaN        1.0  13/06/2020   \n",
       "48669   ...      NaN       NaN       NaN        NaN        2.0  16/04/2020   \n",
       "28143   ...      NaN       NaN       NaN        NaN        2.0  13/04/2020   \n",
       "370216  ...      NaN       NaN       NaN        NaN        5.0         NaN   \n",
       "252872  ...      NaN       NaN       NaN        NaN        2.0  11/06/2020   \n",
       "316069  ...      NaN       NaN       NaN        NaN        2.0  24/06/2020   \n",
       "\n",
       "        POS_PCRFLU  TP_FLU_PCR  PCR_FLUASU  FLUASU_OUT  PCR_FLUBLI  \\\n",
       "17471          NaN         NaN         NaN         NaN         NaN   \n",
       "321801         NaN         NaN         NaN         NaN         NaN   \n",
       "29392          NaN         NaN         NaN         NaN         NaN   \n",
       "207923         NaN         NaN         NaN         NaN         NaN   \n",
       "337526         NaN         NaN         NaN         NaN         NaN   \n",
       "48669          NaN         NaN         NaN         NaN         NaN   \n",
       "28143          NaN         NaN         NaN         NaN         NaN   \n",
       "370216         NaN         NaN         NaN         NaN         NaN   \n",
       "252872         NaN         NaN         NaN         NaN         NaN   \n",
       "316069         NaN         NaN         NaN         NaN         NaN   \n",
       "\n",
       "        FLUBLI_OUT  POS_PCROUT  PCR_VSR  PCR_PARA1 PCR_PARA2  PCR_PARA3  \\\n",
       "17471          NaN         1.0      NaN        NaN       NaN        NaN   \n",
       "321801         NaN         NaN      NaN        NaN       NaN        NaN   \n",
       "29392          NaN         NaN      NaN        NaN       NaN        NaN   \n",
       "207923         NaN         NaN      NaN        NaN       NaN        NaN   \n",
       "337526         NaN         1.0      NaN        NaN       NaN        NaN   \n",
       "48669          NaN         NaN      NaN        NaN       NaN        NaN   \n",
       "28143          NaN         NaN      NaN        NaN       NaN        NaN   \n",
       "370216         NaN         NaN      NaN        NaN       NaN        NaN   \n",
       "252872         NaN         NaN      NaN        NaN       NaN        NaN   \n",
       "316069         NaN         NaN      NaN        NaN       NaN        NaN   \n",
       "\n",
       "       PCR_PARA4  PCR_ADENO PCR_METAP  PCR_BOCA PCR_RINO PCR_OUTRO DS_PCR_OUT  \\\n",
       "17471        NaN        NaN       NaN       NaN      NaN       NaN        NaN   \n",
       "321801       NaN        NaN       NaN       NaN      NaN       NaN        NaN   \n",
       "29392        NaN        NaN       NaN       NaN      NaN       NaN        NaN   \n",
       "207923       NaN        NaN       NaN       NaN      NaN       NaN        NaN   \n",
       "337526       NaN        NaN       NaN       NaN      NaN       NaN        NaN   \n",
       "48669        NaN        NaN       NaN       NaN      NaN       NaN        NaN   \n",
       "28143        NaN        NaN       NaN       NaN      NaN       NaN        NaN   \n",
       "370216       NaN        NaN       NaN       NaN      NaN       NaN        NaN   \n",
       "252872       NaN        NaN       NaN       NaN      NaN       NaN        NaN   \n",
       "316069       NaN        NaN       NaN       NaN      NaN       NaN        NaN   \n",
       "\n",
       "        CLASSI_FIN  CLASSI_OUT CRITERIO EVOLUCAO  DT_EVOLUCA  DT_ENCERRA  \\\n",
       "17471          5.0         NaN      1.0      NaN         NaN         NaN   \n",
       "321801         NaN         NaN      NaN      NaN         NaN         NaN   \n",
       "29392          4.0         NaN      1.0      1.0  20/04/2020  12/04/2020   \n",
       "207923         NaN         NaN      NaN      NaN         NaN         NaN   \n",
       "337526         5.0         NaN      1.0      1.0  12/06/2020  30/06/2020   \n",
       "48669          4.0         NaN      1.0      1.0  17/04/2020  24/04/2020   \n",
       "28143          4.0         NaN      1.0      2.0  03/04/2020  13/04/2020   \n",
       "370216         NaN         NaN      NaN      NaN         NaN         NaN   \n",
       "252872         4.0         NaN      1.0      1.0  21/06/2020  25/06/2020   \n",
       "316069         NaN         NaN      NaN      1.0  27/06/2020  29/06/2020   \n",
       "\n",
       "         DT_DIGITA HISTO_VGM  PAIS_VGM CO_PS_VGM  LO_PS_VGM  DT_VGM DT_RT_VGM  \\\n",
       "17471   30/03/2020         9       NaN       NaN        NaN     NaN       NaN   \n",
       "321801  23/06/2020         2       NaN       NaN        NaN     NaN       NaN   \n",
       "29392   06/04/2020         2       NaN       NaN        NaN     NaN       NaN   \n",
       "207923  01/06/2020         0       NaN       NaN        NaN     NaN       NaN   \n",
       "337526  26/06/2020         2       NaN       NaN        NaN     NaN       NaN   \n",
       "48669   15/04/2020         2       NaN       NaN        NaN     NaN       NaN   \n",
       "28143   03/04/2020         2       NaN       NaN        NaN     NaN       NaN   \n",
       "370216  02/07/2020         2       NaN       NaN        NaN     NaN       NaN   \n",
       "252872  10/06/2020         0       NaN       NaN        NaN     NaN       NaN   \n",
       "316069  22/06/2020         0       NaN       NaN        NaN     NaN       NaN   \n",
       "\n",
       "       PCR_SARS2  PAC_COCBO  PAC_DSCBO  \n",
       "17471        1.0        NaN        NaN  \n",
       "321801       NaN        NaN        NaN  \n",
       "29392        NaN        NaN        NaN  \n",
       "207923       NaN        NaN        NaN  \n",
       "337526       1.0        NaN        NaN  \n",
       "48669        NaN        NaN        NaN  \n",
       "28143        NaN        NaN        NaN  \n",
       "370216       NaN        NaN        NaN  \n",
       "252872       NaN        NaN        NaN  \n",
       "316069       NaN        NaN        NaN  \n",
       "\n",
       "[10 rows x 134 columns]"
      ]
     },
     "execution_count": 9,
     "metadata": {},
     "output_type": "execute_result"
    }
   ],
   "source": [
    "df.sample(5)"
   ]
  },
  {
   "cell_type": "code",
   "execution_count": 10,
   "metadata": {
    "pycharm": {
     "name": "#%%\n"
    }
   },
   "outputs": [
    {
     "data": {
      "image/png": "[encoded data removed]",
      "text/plain": [
       "<Figure size 432x288 with 1 Axes>"
      ]
     },
     "metadata": {
      "needs_background": "light"
     },
     "output_type": "display_data"
    }
   ],
   "source": [
    "# Campo 'SG_UF_NOT' obrigatório\n",
    "df.groupby('SG_UF_NOT').size().sort_values().tail(5).plot(kind='barh')\n",
    "plt.title('Cinco Estados do Brasil com mais casos até a última data analisada.', fontsize=12)\n",
    "plt.show()"
   ]
  },
  {
   "cell_type": "code",
   "execution_count": 11,
   "metadata": {
    "pycharm": {
     "name": "#%%\n"
    }
   },
   "outputs": [
    {
     "data": {
      "image/png": "[encoded data removed]",
      "text/plain": [
       "<Figure size 432x288 with 1 Axes>"
      ]
     },
     "metadata": {
      "needs_background": "light"
     },
     "output_type": "display_data"
    }
   ],
   "source": [
    "# Campo 'SG_UF_NOT' obrigatório\n",
    "df.groupby('SG_UF_NOT').size().sort_values().head(5).plot(kind='barh')\n",
    "plt.title('Cinco Estados do Brasil com menos casos até a última data analisada', fontsize=12)\n",
    "plt.show()"
   ]
  },
  {
   "cell_type": "code",
   "execution_count": 12,
   "metadata": {
    "pycharm": {
     "name": "#%%\n"
    }
   },
   "outputs": [
    {
     "data": {
      "image/png": "[encoded data removed]",
      "text/plain": [
       "<Figure size 432x288 with 1 Axes>"
      ]
     },
     "metadata": {
      "needs_background": "light"
     },
     "output_type": "display_data"
    }
   ],
   "source": [
    "# Campo 'CS_RACA' Essencial  - cor ou raça declarada pelo paciente\n",
    "df.groupby('CS_RACA').size().sort_values().plot(kind='barh')\n",
    "plt.title('Numéro de casos por cor ou raça:', fontsize=12)\n",
    "plt.show()"
   ]
  },
  {
   "cell_type": "code",
   "execution_count": 13,
   "metadata": {
    "pycharm": {
     "name": "#%%\n"
    }
   },
   "outputs": [
    {
     "data": {
      "image/png": "[encoded data removed]",
      "text/plain": [
       "<Figure size 432x288 with 1 Axes>"
      ]
     },
     "metadata": {
      "needs_background": "light"
     },
     "output_type": "display_data"
    }
   ],
   "source": [
    "# Campo Essencial\n",
    "df.groupby('CS_ESCOL_N').size().sort_values().plot(kind='barh')\n",
    "plt.title('Relação de casos notificados e grau de escolaridade informado pelo paciente', fontsize=12)\n",
    "plt.show()"
   ]
  },
  {
   "cell_type": "code",
   "execution_count": 14,
   "metadata": {
    "pycharm": {
     "name": "#%%\n"
    }
   },
   "outputs": [
    {
     "data": {
      "text/plain": [
       "1    1050\n",
       "Name: HISTO_VGM, dtype: int64"
      ]
     },
     "execution_count": 14,
     "metadata": {},
     "output_type": "execute_result"
    }
   ],
   "source": [
    "# Campo obrigatório\n",
    "df.query('HISTO_VGM == 1')['HISTO_VGM'].value_counts()"
   ]
  },
  {
   "cell_type": "code",
   "execution_count": 15,
   "metadata": {
    "pycharm": {
     "name": "#%%\n"
    }
   },
   "outputs": [
    {
     "data": {
      "image/png": "[encoded data removed]",
      "text/plain": [
       "<Figure size 432x288 with 1 Axes>"
      ]
     },
     "metadata": {
      "needs_background": "light"
     },
     "output_type": "display_data"
    }
   ],
   "source": [
    "df.query('HISTO_VGM == 1 and PAIS_VGM != \"BRASIL\"').groupby('PAIS_VGM').size().sort_values(ascending=True).tail(10).plot(kind='bar')\n",
    "plt.title('Paciente tem histórico de viagem internacional até 14 dias antes do início dos sintomas?.', fontsize=12)\n",
    "plt.show()\n"
   ]
  },
  {
   "cell_type": "code",
   "execution_count": 16,
   "metadata": {
    "pycharm": {
     "name": "#%%\n"
    }
   },
   "outputs": [
    {
     "data": {
      "text/plain": [
       "1.0    116877\n",
       "Name: CARDIOPATI, dtype: int64"
      ]
     },
     "execution_count": 16,
     "metadata": {},
     "output_type": "execute_result"
    }
   ],
   "source": [
    "# Campo 'OBESIDADE' Essencial - Fatores de Risco\n",
    "df.query('CARDIOPATI == 1')['CARDIOPATI'].value_counts()"
   ]
  },
  {
   "cell_type": "code",
   "execution_count": 17,
   "metadata": {
    "pycharm": {
     "name": "#%%\n"
    }
   },
   "outputs": [
    {
     "data": {
      "text/plain": [
       "1.0    84660\n",
       "Name: DIABETES, dtype: int64"
      ]
     },
     "execution_count": 17,
     "metadata": {},
     "output_type": "execute_result"
    }
   ],
   "source": [
    "# Campo 'OBESIDADE' Essencial - Fatores de Risco\n",
    "df.query('DIABETES == 1')['DIABETES'].value_counts()\n"
   ]
  },
  {
   "cell_type": "code",
   "execution_count": 18,
   "metadata": {
    "pycharm": {
     "name": "#%%\n"
    }
   },
   "outputs": [
    {
     "data": {
      "text/plain": [
       "1.0    11047\n",
       "Name: OBESIDADE, dtype: int64"
      ]
     },
     "execution_count": 18,
     "metadata": {},
     "output_type": "execute_result"
    }
   ],
   "source": [
    "# Campo 'OBESIDADE' Essencial - Fatores de Risco\n",
    "df.query('OBESIDADE == 1')['OBESIDADE'].value_counts()"
   ]
  },
  {
   "cell_type": "code",
   "execution_count": 19,
   "metadata": {
    "pycharm": {
     "name": "#%%\n"
    }
   },
   "outputs": [
    {
     "data": {
      "image/png": "[encoded data removed]",
      "text/plain": [
       "<Figure size 432x288 with 1 Axes>"
      ]
     },
     "metadata": {
      "needs_background": "light"
     },
     "output_type": "display_data"
    }
   ],
   "source": [
    "# Campo 'SEM_NOT' interno\n",
    "df.groupby('SEM_NOT').size().plot(kind='bar')\n",
    "plt.title('Evolução de novos casos por semana', fontsize=12)\n",
    "plt.show()\n"
   ]
  },
  {
   "cell_type": "code",
   "execution_count": 21,
   "metadata": {
    "pycharm": {
     "name": "#%%\n"
    }
   },
   "outputs": [
    {
     "data": {
      "image/png": "[encoded data removed]",
      "text/plain": [
       "<Figure size 432x288 with 1 Axes>"
      ]
     },
     "metadata": {
      "needs_background": "light"
     },
     "output_type": "display_data"
    }
   ],
   "source": [
    "# Campo 'ID_MUNICIP' obrigatório\n",
    "df.query('ID_MUNICIP == \"SAO JOSE DOS CAMPOS\"').groupby('SEM_NOT').size().plot(kind='bar')\n",
    "plt.title('Município de São José dos Campos', fontsize=12)\n",
    "plt.show()"
   ]
  },
  {
   "cell_type": "code",
   "execution_count": 22,
   "metadata": {
    "pycharm": {
     "name": "#%%\n"
    }
   },
   "outputs": [
    {
     "data": {
      "image/png": "[encoded data removed]",
      "text/plain": [
       "<Figure size 432x288 with 1 Axes>"
      ]
     },
     "metadata": {
      "needs_background": "light"
     },
     "output_type": "display_data"
    }
   ],
   "source": [
    "# Campo 'ID_MUNICIP' obrigatório\n",
    "df.query('ID_MUNICIP == \"CAMPOS DO JORDAO\"').groupby('SEM_NOT').size().plot(kind='bar')\n",
    "plt.title('Município de Campos do Jordão', fontsize=12)\n",
    "plt.show()"
   ]
  },
  {
   "cell_type": "code",
   "execution_count": 23,
   "metadata": {
    "pycharm": {
     "name": "#%%\n"
    }
   },
   "outputs": [
    {
     "data": {
      "image/png": "[encoded data removed]",
      "text/plain": [
       "<Figure size 432x288 with 1 Axes>"
      ]
     },
     "metadata": {
      "needs_background": "light"
     },
     "output_type": "display_data"
    }
   ],
   "source": [
    "# Campo 'ID_MUNICIP' obrigatório\n",
    "df.query('ID_MUNICIP == \"TAUBATE\"').groupby('SEM_NOT').size().plot(kind='bar')\n",
    "plt.title('Município de Taubaté', fontsize=12)\n",
    "plt.show()"
   ]
  },
  {
   "cell_type": "code",
   "execution_count": 24,
   "metadata": {
    "pycharm": {
     "name": "#%%\n"
    }
   },
   "outputs": [
    {
     "data": {
      "image/png": "[encoded data removed]",
      "text/plain": [
       "<Figure size 432x288 with 1 Axes>"
      ]
     },
     "metadata": {
      "needs_background": "light"
     },
     "output_type": "display_data"
    }
   ],
   "source": [
    "# Campo 'ID_MUNICIP' obrigatório\n",
    "df.query('ID_MUNICIP == \"PINDAMONHANGABA\"').groupby('SEM_NOT').size().plot(kind='bar')\n",
    "plt.title('Município de Pindamonhangaba', fontsize=12)\n",
    "plt.show()"
   ]
  },
  {
   "cell_type": "code",
   "execution_count": 25,
   "metadata": {
    "pycharm": {
     "name": "#%%\n"
    }
   },
   "outputs": [
    {
     "data": {
      "image/png": "[encoded data removed]",
      "text/plain": [
       "<Figure size 432x288 with 1 Axes>"
      ]
     },
     "metadata": {
      "needs_background": "light"
     },
     "output_type": "display_data"
    }
   ],
   "source": [
    "# Campo 'ID_MUNICIP' obrigatório\n",
    "df.query('ID_MUNICIP == \"LORENA\"').groupby('SEM_NOT').size().plot(kind='bar')\n",
    "plt.title('Município de Lorena', fontsize=12)\n",
    "plt.show()"
   ]
  },
  {
   "cell_type": "code",
   "execution_count": 28,
   "metadata": {
    "pycharm": {
     "name": "#%%\n"
    }
   },
   "outputs": [
    {
     "data": {
      "text/plain": [
       "<matplotlib.axes._subplots.AxesSubplot at 0x2a9884f3490>"
      ]
     },
     "execution_count": 28,
     "metadata": {},
     "output_type": "execute_result"
    },
    {
     "data": {
      "image/png": "[encoded data removed]",
      "text/plain": [
       "<Figure size 432x288 with 1 Axes>"
      ]
     },
     "metadata": {
      "needs_background": "light"
     },
     "output_type": "display_data"
    }
   ],
   "source": [
    "# Campo 'ID_MUNICIP' obrigatório\n",
    "df.query('ID_MUNICIP == \"CRUZEIRO\"').groupby('SEM_NOT').size().plot(kind='bar')\n",
    "plt.title('Município de Cruzeiro', fontsize=12)\n",
    "plt.show()"
   ]
  },
  {
   "cell_type": "code",
   "execution_count": 29,
   "metadata": {
    "pycharm": {
     "name": "#%%\n"
    }
   },
   "outputs": [
    {
     "data": {
      "text/plain": [
       "<matplotlib.axes._subplots.AxesSubplot at 0x2a98856a4f0>"
      ]
     },
     "execution_count": 29,
     "metadata": {},
     "output_type": "execute_result"
    },
    {
     "data": {
      "image/png": "[encoded data removed]",
      "text/plain": [
       "<Figure size 432x288 with 1 Axes>"
      ]
     },
     "metadata": {
      "needs_background": "light"
     },
     "output_type": "display_data"
    }
   ],
   "source": [
    "# Campo 'ID_MUNICIP' obrigatório\n",
    "df.query('ID_MUNICIP == \"APARECIDA\"').groupby('SEM_NOT').size().plot(kind='bar')\n",
    "plt.title('Município de Aparecida do Norte', fontsize=12)\n",
    "plt.show()"
   ]
  },
  {
   "cell_type": "code",
   "execution_count": 1,
   "metadata": {
    "pycharm": {
     "name": "#%%"
    }
   },
   "outputs": [
    {
     "ename": "NameError",
     "evalue": "name 'df' is not defined",
     "output_type": "error",
     "traceback": [
      "\u001b[1;31m---------------------------------------------------------------------------\u001b[0m",
      "\u001b[1;31mNameError\u001b[0m                                 Traceback (most recent call last)",
      "\u001b[1;32m<ipython-input-1-ee6ca188db41>\u001b[0m in \u001b[0;36m<module>\u001b[1;34m\u001b[0m\n\u001b[0;32m      3\u001b[0m \u001b[1;33m\u001b[0m\u001b[0m\n\u001b[0;32m      4\u001b[0m \u001b[1;32mfor\u001b[0m \u001b[0mc\u001b[0m \u001b[1;32min\u001b[0m \u001b[0mcidades\u001b[0m\u001b[1;33m:\u001b[0m\u001b[1;33m\u001b[0m\u001b[1;33m\u001b[0m\u001b[0m\n\u001b[1;32m----> 5\u001b[1;33m     \u001b[0mdf\u001b[0m\u001b[1;33m.\u001b[0m\u001b[0mquery\u001b[0m\u001b[1;33m(\u001b[0m\u001b[1;34m\"ID_MUNICIP\"\u001b[0m \u001b[1;33m==\u001b[0m \u001b[0mstr\u001b[0m\u001b[1;33m(\u001b[0m\u001b[0mc\u001b[0m\u001b[1;33m)\u001b[0m\u001b[1;33m)\u001b[0m\u001b[1;33m.\u001b[0m\u001b[0mplot\u001b[0m\u001b[1;33m(\u001b[0m\u001b[0mkind\u001b[0m\u001b[1;33m=\u001b[0m\u001b[1;34m'line'\u001b[0m\u001b[1;33m,\u001b[0m \u001b[0mx\u001b[0m \u001b[1;33m=\u001b[0m \u001b[1;34m'data'\u001b[0m\u001b[1;33m,\u001b[0m \u001b[0my\u001b[0m\u001b[1;33m=\u001b[0m\u001b[1;34m'casosAcumulados'\u001b[0m\u001b[1;33m,\u001b[0m \u001b[0mlabel\u001b[0m \u001b[1;33m=\u001b[0m \u001b[0mc\u001b[0m\u001b[1;33m,\u001b[0m \u001b[0max\u001b[0m \u001b[1;33m=\u001b[0m \u001b[0mplt\u001b[0m\u001b[1;33m.\u001b[0m\u001b[0mgca\u001b[0m\u001b[1;33m(\u001b[0m\u001b[1;33m)\u001b[0m\u001b[1;33m,\u001b[0m \u001b[0mfigsize\u001b[0m \u001b[1;33m=\u001b[0m \u001b[1;33m(\u001b[0m\u001b[1;36m20\u001b[0m\u001b[1;33m,\u001b[0m \u001b[1;36m10\u001b[0m\u001b[1;33m)\u001b[0m\u001b[1;33m)\u001b[0m\u001b[1;33m\u001b[0m\u001b[1;33m\u001b[0m\u001b[0m\n\u001b[0m\u001b[0;32m      6\u001b[0m \u001b[0mplt\u001b[0m\u001b[1;33m.\u001b[0m\u001b[0mtitle\u001b[0m\u001b[1;33m(\u001b[0m\u001b[1;34m\"Casos confirmados acumulados\"\u001b[0m\u001b[1;33m,\u001b[0m \u001b[0mfontsize\u001b[0m\u001b[1;33m=\u001b[0m\u001b[1;36m12\u001b[0m\u001b[1;33m)\u001b[0m\u001b[1;33m\u001b[0m\u001b[1;33m\u001b[0m\u001b[0m\n\u001b[0;32m      7\u001b[0m \u001b[0mplt\u001b[0m\u001b[1;33m.\u001b[0m\u001b[0mylabel\u001b[0m\u001b[1;33m(\u001b[0m\u001b[1;34m'Número de casos acumulados'\u001b[0m\u001b[1;33m)\u001b[0m\u001b[1;33m\u001b[0m\u001b[1;33m\u001b[0m\u001b[0m\n",
      "\u001b[1;31mNameError\u001b[0m: name 'df' is not defined"
     ]
    }
   ],
   "source": []
  }
 ],
 "metadata": {
  "kernelspec": {
   "display_name": "Python 3",
   "language": "python",
   "name": "python3"
  },
  "language_info": {
   "codemirror_mode": {
    "name": "ipython",
    "version": 3
   },
   "file_extension": ".py",
   "mimetype": "text/x-python",
   "name": "python",
   "nbconvert_exporter": "python",
   "pygments_lexer": "ipython3",
   "version": "3.8.3"
  }
 },
 "nbformat": 4,
 "nbformat_minor": 1
}
